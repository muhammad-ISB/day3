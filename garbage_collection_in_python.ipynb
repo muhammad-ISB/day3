{
  "nbformat": 4,
  "nbformat_minor": 0,
  "metadata": {
    "colab": {
      "provenance": []
    },
    "kernelspec": {
      "name": "python3",
      "display_name": "Python 3"
    },
    "language_info": {
      "name": "python"
    }
  },
  "cells": [
    {
      "cell_type": "code",
      "execution_count": 1,
      "metadata": {
        "id": "Gaywjzj0jNf-"
      },
      "outputs": [],
      "source": [
        "import sys\n",
        "import gc # garbage collection"
      ]
    },
    {
      "cell_type": "code",
      "source": [
        "a = 'Hellow world'\n",
        "sys.getrefcount(a)"
      ],
      "metadata": {
        "colab": {
          "base_uri": "https://localhost:8080/"
        },
        "id": "j2Q-nkWojVKw",
        "outputId": "02f480dd-62f3-4d0a-a8d5-67a118514aa0"
      },
      "execution_count": 2,
      "outputs": [
        {
          "output_type": "execute_result",
          "data": {
            "text/plain": [
              "3"
            ]
          },
          "metadata": {},
          "execution_count": 2
        }
      ]
    },
    {
      "cell_type": "code",
      "source": [
        "mylist = []\n",
        "mylist.append(a)\n",
        "sys.getrefcount(a)"
      ],
      "metadata": {
        "colab": {
          "base_uri": "https://localhost:8080/"
        },
        "id": "fw3UUxbgjbb2",
        "outputId": "4d2fe184-1277-4409-bead-a236233a5e4d"
      },
      "execution_count": 3,
      "outputs": [
        {
          "output_type": "execute_result",
          "data": {
            "text/plain": [
              "4"
            ]
          },
          "metadata": {},
          "execution_count": 3
        }
      ]
    },
    {
      "cell_type": "code",
      "source": [
        "gc.get_referrers(a)"
      ],
      "metadata": {
        "colab": {
          "base_uri": "https://localhost:8080/"
        },
        "id": "bFg-0iG9jj0l",
        "outputId": "fe1c4954-b59e-4a19-90d3-9e810e38f342"
      },
      "execution_count": 4,
      "outputs": [
        {
          "output_type": "execute_result",
          "data": {
            "text/plain": [
              "[['Hellow world'],\n",
              " {'__name__': '__main__',\n",
              "  '__doc__': 'Automatically created module for IPython interactive environment',\n",
              "  '__package__': None,\n",
              "  '__loader__': None,\n",
              "  '__spec__': None,\n",
              "  '__builtin__': <module 'builtins' (built-in)>,\n",
              "  '__builtins__': <module 'builtins' (built-in)>,\n",
              "  '_ih': ['',\n",
              "   'import sys\\nimport gc # garbage collection',\n",
              "   \"a = 'Hellow world'\\nsys.getrefcount(a)\",\n",
              "   'mylist = []\\nmylist.append(a)\\nsys.getrefcount(a)',\n",
              "   'gc.get_referrers(a)'],\n",
              "  '_oh': {2: 3, 3: 4},\n",
              "  '_dh': ['/content'],\n",
              "  'In': ['',\n",
              "   'import sys\\nimport gc # garbage collection',\n",
              "   \"a = 'Hellow world'\\nsys.getrefcount(a)\",\n",
              "   'mylist = []\\nmylist.append(a)\\nsys.getrefcount(a)',\n",
              "   'gc.get_referrers(a)'],\n",
              "  'Out': {2: 3, 3: 4},\n",
              "  'get_ipython': <bound method InteractiveShell.get_ipython of <google.colab._shell.Shell object at 0x7f711de977c0>>,\n",
              "  'exit': <IPython.core.autocall.ZMQExitAutocall at 0x7f711de96c80>,\n",
              "  'quit': <IPython.core.autocall.ZMQExitAutocall at 0x7f711de96c80>,\n",
              "  '_': 4,\n",
              "  '__': 3,\n",
              "  '___': '',\n",
              "  '_i': 'mylist = []\\nmylist.append(a)\\nsys.getrefcount(a)',\n",
              "  '_ii': \"a = 'Hellow world'\\nsys.getrefcount(a)\",\n",
              "  '_iii': 'import sys\\nimport gc # garbage collection',\n",
              "  '_i1': 'import sys\\nimport gc # garbage collection',\n",
              "  'sys': <module 'sys' (built-in)>,\n",
              "  'gc': <module 'gc' (built-in)>,\n",
              "  '_i2': \"a = 'Hellow world'\\nsys.getrefcount(a)\",\n",
              "  'a': 'Hellow world',\n",
              "  '_2': 3,\n",
              "  '_i3': 'mylist = []\\nmylist.append(a)\\nsys.getrefcount(a)',\n",
              "  'mylist': ['Hellow world'],\n",
              "  '_3': 4,\n",
              "  '_i4': 'gc.get_referrers(a)'},\n",
              " {'__name__': '__main__',\n",
              "  '__doc__': 'Automatically created module for IPython interactive environment',\n",
              "  '__package__': None,\n",
              "  '__loader__': None,\n",
              "  '__spec__': None,\n",
              "  '__builtin__': <module 'builtins' (built-in)>,\n",
              "  '__builtins__': <module 'builtins' (built-in)>,\n",
              "  '_ih': ['',\n",
              "   'import sys\\nimport gc # garbage collection',\n",
              "   \"a = 'Hellow world'\\nsys.getrefcount(a)\",\n",
              "   'mylist = []\\nmylist.append(a)\\nsys.getrefcount(a)',\n",
              "   'gc.get_referrers(a)'],\n",
              "  '_oh': {2: 3, 3: 4},\n",
              "  '_dh': ['/content'],\n",
              "  'In': ['',\n",
              "   'import sys\\nimport gc # garbage collection',\n",
              "   \"a = 'Hellow world'\\nsys.getrefcount(a)\",\n",
              "   'mylist = []\\nmylist.append(a)\\nsys.getrefcount(a)',\n",
              "   'gc.get_referrers(a)'],\n",
              "  'Out': {2: 3, 3: 4},\n",
              "  'get_ipython': <bound method InteractiveShell.get_ipython of <google.colab._shell.Shell object at 0x7f711de977c0>>,\n",
              "  'exit': <IPython.core.autocall.ZMQExitAutocall at 0x7f711de96c80>,\n",
              "  'quit': <IPython.core.autocall.ZMQExitAutocall at 0x7f711de96c80>,\n",
              "  '_': 3,\n",
              "  '__': '',\n",
              "  '___': '',\n",
              "  '_i': 'import sys\\nimport gc # garbage collection',\n",
              "  '_ii': '',\n",
              "  '_iii': '',\n",
              "  '_i1': 'import sys\\nimport gc # garbage collection',\n",
              "  'sys': <module 'sys' (built-in)>,\n",
              "  'gc': <module 'gc' (built-in)>,\n",
              "  '_i2': \"a = 'Hellow world'\\nsys.getrefcount(a)\",\n",
              "  'a': 'Hellow world',\n",
              "  '_2': 3}]"
            ]
          },
          "metadata": {},
          "execution_count": 4
        }
      ]
    },
    {
      "cell_type": "code",
      "source": [
        "gc.get_threshold() # current threshold for gc0, gc1 and gc2 respectively"
      ],
      "metadata": {
        "colab": {
          "base_uri": "https://localhost:8080/"
        },
        "id": "vGSj9Vhijoud",
        "outputId": "309a0706-1a10-4f34-814c-7d9821220fcb"
      },
      "execution_count": 5,
      "outputs": [
        {
          "output_type": "execute_result",
          "data": {
            "text/plain": [
              "(700, 10, 10)"
            ]
          },
          "metadata": {},
          "execution_count": 5
        }
      ]
    },
    {
      "cell_type": "code",
      "source": [
        "gc.set_threshold(1000,20,30)"
      ],
      "metadata": {
        "id": "iXynhv6Dj1Av"
      },
      "execution_count": 6,
      "outputs": []
    },
    {
      "cell_type": "code",
      "source": [
        "gc.get_threshold()"
      ],
      "metadata": {
        "colab": {
          "base_uri": "https://localhost:8080/"
        },
        "id": "E7ipgTt9kEFt",
        "outputId": "e9f617e6-a726-462e-b160-671cabdfc416"
      },
      "execution_count": 7,
      "outputs": [
        {
          "output_type": "execute_result",
          "data": {
            "text/plain": [
              "(1000, 20, 30)"
            ]
          },
          "metadata": {},
          "execution_count": 7
        }
      ]
    },
    {
      "cell_type": "code",
      "source": [
        "gc.get_count() # garbage collection that might have happened in the past"
      ],
      "metadata": {
        "colab": {
          "base_uri": "https://localhost:8080/"
        },
        "id": "8Dj-Xp90kFbc",
        "outputId": "2bfe4121-ba05-4e21-e9c3-4433c995ccbc"
      },
      "execution_count": 8,
      "outputs": [
        {
          "output_type": "execute_result",
          "data": {
            "text/plain": [
              "(422, 2, 5)"
            ]
          },
          "metadata": {},
          "execution_count": 8
        }
      ]
    },
    {
      "cell_type": "code",
      "source": [
        "gc.set_debug(True) # when the gc is happening - to show when"
      ],
      "metadata": {
        "id": "zShB-FRPkNNr"
      },
      "execution_count": 9,
      "outputs": []
    },
    {
      "cell_type": "code",
      "source": [],
      "metadata": {
        "id": "3bWpKMT9mAuV"
      },
      "execution_count": 9,
      "outputs": []
    },
    {
      "cell_type": "code",
      "source": [
        "import time"
      ],
      "metadata": {
        "id": "33nTiTo1kUGm"
      },
      "execution_count": 10,
      "outputs": []
    },
    {
      "cell_type": "code",
      "source": [
        "class Link:\n",
        "\n",
        "  def __init__(self, next_link, value):\n",
        "    self.next_link = next_link\n",
        "    self.value = value\n",
        "\n",
        "  def __repr__(self):\n",
        "    return self.value\n",
        "\n",
        "\n",
        "l = Link(next_link=None, value='Main Link')\n",
        "mylist = []"
      ],
      "metadata": {
        "id": "Wy-USXE3kXTH"
      },
      "execution_count": 11,
      "outputs": []
    },
    {
      "cell_type": "code",
      "source": [
        "start = time.perf_counter()\n",
        "\n",
        "for i in range(5000000):\n",
        "  l_temp = Link(l, value='L')\n",
        "\n",
        "  mylist.append(l_temp)\n",
        "\n",
        "end = time.perf_counter()\n",
        "\n",
        "print(end-start)"
      ],
      "metadata": {
        "colab": {
          "base_uri": "https://localhost:8080/"
        },
        "id": "S1PLXmbHlAJf",
        "outputId": "3f1d7d18-6b53-4bd2-c183-f2d1c3d11c25"
      },
      "execution_count": null,
      "outputs": [
        {
          "output_type": "stream",
          "name": "stderr",
          "text": [
            "gc: objects in each generation: 1010 13145 2700081\n",
            "gc: objects in permanent generation: 0\n",
            "gc: done, 0 unreachable, 0 uncollectable, 0.0001s elapsed\n",
            "gc: collecting generation 0...\n",
            "gc: objects in each generation: 1009 14169 2700081\n",
            "gc: objects in permanent generation: 0\n",
            "gc: done, 0 unreachable, 0 uncollectable, 0.0001s elapsed\n",
            "gc: collecting generation 0...\n",
            "gc: objects in each generation: 1029 15205 2700081\n",
            "gc: objects in permanent generation: 0\n",
            "gc: done, 0 unreachable, 0 uncollectable, 0.0001s elapsed\n",
            "gc: collecting generation 0...\n",
            "gc: objects in each generation: 1016 16192 2700081\n",
            "gc: objects in permanent generation: 0\n",
            "gc: done, 0 unreachable, 0 uncollectable, 0.0001s elapsed\n",
            "gc: collecting generation 0...\n",
            "gc: objects in each generation: 1011 17199 2700081\n",
            "gc: objects in permanent generation: 0\n",
            "gc: done, 0 unreachable, 0 uncollectable, 0.0001s elapsed\n",
            "gc: collecting generation 0...\n",
            "gc: objects in each generation: 1076 18169 2700081\n",
            "gc: objects in permanent generation: 0\n",
            "gc: done, 0 unreachable, 0 uncollectable, 0.0001s elapsed\n",
            "gc: collecting generation 0...\n",
            "gc: objects in each generation: 1012 19251 2700081\n",
            "gc: objects in permanent generation: 0\n",
            "gc: done, 0 unreachable, 0 uncollectable, 0.0001s elapsed\n",
            "gc: collecting generation 0...\n",
            "gc: objects in each generation: 1010 20261 2700081\n",
            "gc: objects in permanent generation: 0\n",
            "gc: done, 0 unreachable, 0 uncollectable, 0.0001s elapsed\n",
            "gc: collecting generation 1...\n",
            "gc: objects in each generation: 1016 21241 2700081\n",
            "gc: objects in permanent generation: 0\n",
            "gc: done, 0 unreachable, 0 uncollectable, 0.0013s elapsed\n",
            "gc: collecting generation 0...\n",
            "gc: objects in each generation: 1011 0 2722329\n",
            "gc: objects in permanent generation: 0\n",
            "gc: done, 0 unreachable, 0 uncollectable, 0.0001s elapsed\n",
            "gc: collecting generation 0...\n",
            "gc: objects in each generation: 1010 1013 2722317\n",
            "gc: objects in permanent generation: 0\n",
            "gc: done, 0 unreachable, 0 uncollectable, 0.0001s elapsed\n",
            "gc: collecting generation 0...\n",
            "gc: objects in each generation: 1009 2042 2722309\n",
            "gc: objects in permanent generation: 0\n",
            "gc: done, 0 unreachable, 0 uncollectable, 0.0001s elapsed\n",
            "gc: collecting generation 0...\n",
            "gc: objects in each generation: 1017 3022 2722309\n",
            "gc: objects in permanent generation: 0\n",
            "gc: done, 0 unreachable, 0 uncollectable, 0.0001s elapsed\n",
            "gc: collecting generation 0...\n",
            "gc: objects in each generation: 1010 4029 2722309\n",
            "gc: objects in permanent generation: 0\n",
            "gc: done, 0 unreachable, 0 uncollectable, 0.0001s elapsed\n",
            "gc: collecting generation 0...\n",
            "gc: objects in each generation: 1011 5030 2722309\n",
            "gc: objects in permanent generation: 0\n",
            "gc: done, 0 unreachable, 0 uncollectable, 0.0001s elapsed\n",
            "gc: collecting generation 0...\n",
            "gc: objects in each generation: 1028 6062 2722307\n",
            "gc: objects in permanent generation: 0\n",
            "gc: done, 0 unreachable, 0 uncollectable, 0.0001s elapsed\n",
            "gc: collecting generation 0...\n",
            "gc: objects in each generation: 1011 7085 2722307\n",
            "gc: objects in permanent generation: 0\n",
            "gc: done, 0 unreachable, 0 uncollectable, 0.0001s elapsed\n",
            "gc: collecting generation 0...\n",
            "gc: objects in each generation: 1016 8080 2722302\n",
            "gc: objects in permanent generation: 0\n",
            "gc: done, 0 unreachable, 0 uncollectable, 0.0001s elapsed\n",
            "gc: collecting generation 0...\n",
            "gc: objects in each generation: 1069 9083 2722302\n",
            "gc: objects in permanent generation: 0\n",
            "gc: done, 0 unreachable, 0 uncollectable, 0.0001s elapsed\n",
            "gc: collecting generation 0...\n",
            "gc: objects in each generation: 1019 10125 2722302\n",
            "gc: objects in permanent generation: 0\n",
            "gc: done, 0 unreachable, 0 uncollectable, 0.0001s elapsed\n",
            "gc: collecting generation 0...\n",
            "gc: objects in each generation: 1011 11135 2722302\n",
            "gc: objects in permanent generation: 0\n",
            "gc: done, 0 unreachable, 0 uncollectable, 0.0001s elapsed\n",
            "gc: collecting generation 0...\n",
            "gc: objects in each generation: 1010 12136 2722302\n",
            "gc: objects in permanent generation: 0\n",
            "gc: done, 0 unreachable, 0 uncollectable, 0.0001s elapsed\n",
            "gc: collecting generation 0...\n",
            "gc: objects in each generation: 1009 13157 2722302\n",
            "gc: objects in permanent generation: 0\n",
            "gc: done, 0 unreachable, 0 uncollectable, 0.0001s elapsed\n",
            "gc: collecting generation 0...\n",
            "gc: objects in each generation: 1017 14137 2722302\n",
            "gc: objects in permanent generation: 0\n",
            "gc: done, 0 unreachable, 0 uncollectable, 0.0001s elapsed\n",
            "gc: collecting generation 0...\n",
            "gc: objects in each generation: 1010 15144 2722302\n",
            "gc: objects in permanent generation: 0\n",
            "gc: done, 0 unreachable, 0 uncollectable, 0.0001s elapsed\n",
            "gc: collecting generation 0...\n",
            "gc: objects in each generation: 1011 16145 2722302\n",
            "gc: objects in permanent generation: 0\n",
            "gc: done, 0 unreachable, 0 uncollectable, 0.0001s elapsed\n",
            "gc: collecting generation 0...\n",
            "gc: objects in each generation: 1010 17166 2722302\n",
            "gc: objects in permanent generation: 0\n",
            "gc: done, 0 unreachable, 0 uncollectable, 0.0001s elapsed\n",
            "gc: collecting generation 0...\n",
            "gc: objects in each generation: 1016 18146 2722302\n",
            "gc: objects in permanent generation: 0\n",
            "gc: done, 0 unreachable, 0 uncollectable, 0.0001s elapsed\n",
            "gc: collecting generation 0...\n",
            "gc: objects in each generation: 1011 19177 2722302\n",
            "gc: objects in permanent generation: 0\n",
            "gc: done, 0 unreachable, 0 uncollectable, 0.0001s elapsed\n",
            "gc: collecting generation 0...\n",
            "gc: objects in each generation: 1011 20197 2722302\n",
            "gc: objects in permanent generation: 0\n",
            "gc: done, 0 unreachable, 0 uncollectable, 0.0001s elapsed\n",
            "gc: collecting generation 1...\n",
            "gc: objects in each generation: 1015 21217 2722302\n",
            "gc: objects in permanent generation: 0\n",
            "gc: done, 0 unreachable, 0 uncollectable, 0.0037s elapsed\n",
            "gc: collecting generation 0...\n",
            "gc: objects in each generation: 1047 0 2744477\n",
            "gc: objects in permanent generation: 0\n",
            "gc: done, 0 unreachable, 0 uncollectable, 0.0001s elapsed\n",
            "gc: collecting generation 0...\n",
            "gc: objects in each generation: 1076 1053 2744441\n",
            "gc: objects in permanent generation: 0\n",
            "gc: done, 0 unreachable, 0 uncollectable, 0.0001s elapsed\n",
            "gc: collecting generation 0...\n",
            "gc: objects in each generation: 1010 2115 2744441\n",
            "gc: objects in permanent generation: 0\n",
            "gc: done, 0 unreachable, 0 uncollectable, 0.0001s elapsed\n",
            "gc: collecting generation 0...\n",
            "gc: objects in each generation: 1013 3142 2744439\n",
            "gc: objects in permanent generation: 0\n",
            "gc: done, 0 unreachable, 0 uncollectable, 0.0001s elapsed\n",
            "gc: collecting generation 0...\n",
            "gc: objects in each generation: 1018 4127 2744437\n",
            "gc: objects in permanent generation: 0\n",
            "gc: done, 0 unreachable, 0 uncollectable, 0.0001s elapsed\n",
            "gc: collecting generation 0...\n",
            "gc: objects in each generation: 1010 5135 2744437\n",
            "gc: objects in permanent generation: 0\n",
            "gc: done, 0 unreachable, 0 uncollectable, 0.0001s elapsed\n",
            "gc: collecting generation 0...\n",
            "gc: objects in each generation: 1007 6130 2744437\n",
            "gc: objects in permanent generation: 0\n",
            "gc: done, 0 unreachable, 0 uncollectable, 0.0001s elapsed\n",
            "gc: collecting generation 0...\n",
            "gc: objects in each generation: 1013 7134 2744437\n",
            "gc: objects in permanent generation: 0\n",
            "gc: done, 0 unreachable, 0 uncollectable, 0.0001s elapsed\n",
            "gc: collecting generation 0...\n",
            "gc: objects in each generation: 1007 8144 2744437\n",
            "gc: objects in permanent generation: 0\n",
            "gc: done, 0 unreachable, 0 uncollectable, 0.0001s elapsed\n",
            "gc: collecting generation 0...\n",
            "gc: objects in each generation: 1011 9154 2744437\n",
            "gc: objects in permanent generation: 0\n",
            "gc: done, 0 unreachable, 0 uncollectable, 0.0001s elapsed\n",
            "gc: collecting generation 0...\n",
            "gc: objects in each generation: 1014 10149 2744437\n",
            "gc: objects in permanent generation: 0\n",
            "gc: done, 0 unreachable, 0 uncollectable, 0.0001s elapsed\n",
            "gc: collecting generation 0...\n",
            "gc: objects in each generation: 1011 11166 2744437\n",
            "gc: objects in permanent generation: 0\n",
            "gc: done, 0 unreachable, 0 uncollectable, 0.0001s elapsed\n",
            "gc: collecting generation 0...\n",
            "gc: objects in each generation: 1024 12189 2744437\n",
            "gc: objects in permanent generation: 0\n",
            "gc: done, 0 unreachable, 0 uncollectable, 0.0001s elapsed\n",
            "gc: collecting generation 0...\n",
            "gc: objects in each generation: 1085 13183 2744437\n",
            "gc: objects in permanent generation: 0\n",
            "gc: done, 0 unreachable, 0 uncollectable, 0.0001s elapsed\n",
            "gc: collecting generation 0...\n",
            "gc: objects in each generation: 1014 14261 2744437\n",
            "gc: objects in permanent generation: 0\n",
            "gc: done, 0 unreachable, 0 uncollectable, 0.0001s elapsed\n",
            "gc: collecting generation 0...\n",
            "gc: objects in each generation: 1008 15261 2744437\n",
            "gc: objects in permanent generation: 0\n",
            "gc: done, 0 unreachable, 0 uncollectable, 0.0001s elapsed\n",
            "gc: collecting generation 0...\n",
            "gc: objects in each generation: 1011 16272 2744437\n",
            "gc: objects in permanent generation: 0\n",
            "gc: done, 0 unreachable, 0 uncollectable, 0.0001s elapsed\n",
            "gc: collecting generation 0...\n",
            "gc: objects in each generation: 1026 17261 2744437\n",
            "gc: objects in permanent generation: 0\n",
            "gc: done, 0 unreachable, 0 uncollectable, 0.0001s elapsed\n",
            "gc: collecting generation 0...\n",
            "gc: objects in each generation: 1015 18278 2744437\n",
            "gc: objects in permanent generation: 0\n",
            "gc: done, 0 unreachable, 0 uncollectable, 0.0001s elapsed\n",
            "gc: collecting generation 0...\n",
            "gc: objects in each generation: 1012 19283 2744437\n",
            "gc: objects in permanent generation: 0\n",
            "gc: done, 0 unreachable, 0 uncollectable, 0.0001s elapsed\n",
            "gc: collecting generation 0...\n",
            "gc: objects in each generation: 1018 20286 2744437\n",
            "gc: objects in permanent generation: 0\n",
            "gc: done, 0 unreachable, 0 uncollectable, 0.0001s elapsed\n",
            "gc: collecting generation 1...\n",
            "gc: objects in each generation: 1013 21298 2744437\n",
            "gc: objects in permanent generation: 0\n",
            "gc: done, 0 unreachable, 0 uncollectable, 0.0017s elapsed\n",
            "gc: collecting generation 0...\n",
            "gc: objects in each generation: 1011 0 2766739\n",
            "gc: objects in permanent generation: 0\n",
            "gc: done, 0 unreachable, 0 uncollectable, 0.0001s elapsed\n",
            "gc: collecting generation 0...\n",
            "gc: objects in each generation: 1008 1003 2766731\n",
            "gc: objects in permanent generation: 0\n",
            "gc: done, 0 unreachable, 0 uncollectable, 0.0001s elapsed\n",
            "gc: collecting generation 0...\n",
            "gc: objects in each generation: 1033 2052 2766712\n",
            "gc: objects in permanent generation: 0\n",
            "gc: done, 0 unreachable, 0 uncollectable, 0.0001s elapsed\n",
            "gc: collecting generation 0...\n",
            "gc: done, 0 unreachable, 0 uncollectable, 0.0001s elapsed\n",
            "gc: collecting generation 0...\n",
            "gc: objects in each generation: 1021 4117 2766712\n",
            "gc: objects in permanent generation: 0\n",
            "gc: done, 0 unreachable, 0 uncollectable, 0.0001s elapsed\n",
            "gc: collecting generation 0...\n",
            "gc: objects in each generation: 1010 5153 2766712\n",
            "gc: objects in permanent generation: 0\n",
            "gc: done, 0 unreachable, 0 uncollectable, 0.0001s elapsed\n",
            "gc: collecting generation 0...\n",
            "gc: objects in each generation: 1018 6126 2766712\n",
            "gc: objects in permanent generation: 0\n",
            "gc: done, 0 unreachable, 0 uncollectable, 0.0001s elapsed\n",
            "gc: collecting generation 0...\n",
            "gc: objects in each generation: 1010 7138 2766712\n",
            "gc: objects in permanent generation: 0\n",
            "gc: done, 0 unreachable, 0 uncollectable, 0.0001s elapsed\n",
            "gc: collecting generation 0...\n",
            "gc: objects in each generation: 1011 8139 2766712\n",
            "gc: objects in permanent generation: 0\n",
            "gc: done, 0 unreachable, 0 uncollectable, 0.0001s elapsed\n",
            "gc: collecting generation 0...\n",
            "gc: objects in each generation: 1010 9160 2766712\n",
            "gc: objects in permanent generation: 0\n",
            "gc: done, 0 unreachable, 0 uncollectable, 0.0001s elapsed\n",
            "gc: collecting generation 0...\n",
            "gc: objects in each generation: 1018 10140 2766712\n",
            "gc: objects in permanent generation: 0\n",
            "gc: done, 0 unreachable, 0 uncollectable, 0.0001s elapsed\n",
            "gc: collecting generation 0...\n",
            "gc: objects in each generation: 1010 11148 2766712\n",
            "gc: objects in permanent generation: 0\n",
            "gc: done, 0 unreachable, 0 uncollectable, 0.0001s elapsed\n",
            "gc: collecting generation 0...\n",
            "gc: objects in each generation: 1011 12149 2766712\n",
            "gc: objects in permanent generation: 0\n",
            "gc: done, 0 unreachable, 0 uncollectable, 0.0001s elapsed\n",
            "gc: collecting generation 0...\n",
            "gc: objects in each generation: 1010 13170 2766712\n",
            "gc: objects in permanent generation: 0\n",
            "gc: done, 0 unreachable, 0 uncollectable, 0.0001s elapsed\n",
            "gc: collecting generation 0...\n",
            "gc: objects in each generation: 1013 14173 2766712\n",
            "gc: objects in permanent generation: 0\n",
            "gc: done, 0 unreachable, 0 uncollectable, 0.0001s elapsed\n",
            "gc: collecting generation 0...\n",
            "gc: objects in each generation: 1012 15181 2766712\n",
            "gc: objects in permanent generation: 0\n",
            "gc: done, 0 unreachable, 0 uncollectable, 0.0001s elapsed\n",
            "gc: collecting generation 0...\n",
            "gc: objects in each generation: 1012 16191 2766712\n",
            "gc: objects in permanent generation: 0\n",
            "gc: done, 0 unreachable, 0 uncollectable, 0.0001s elapsed\n",
            "gc: collecting generation 0...\n",
            "gc: objects in each generation: 1010 17208 2766712\n",
            "gc: objects in permanent generation: 0\n",
            "gc: done, 0 unreachable, 0 uncollectable, 0.0001s elapsed\n",
            "gc: collecting generation 0...\n",
            "gc: objects in each generation: 1021 18210 2766712\n",
            "gc: objects in permanent generation: 0\n",
            "gc: done, 0 unreachable, 0 uncollectable, 0.0001s elapsed\n",
            "gc: collecting generation 0...\n",
            "gc: objects in each generation: 1024 19194 2766712\n",
            "gc: objects in permanent generation: 0\n",
            "gc: done, 0 unreachable, 0 uncollectable, 0.0001s elapsed\n",
            "gc: collecting generation 0...\n",
            "gc: objects in each generation: 1011 20209 2766712\n",
            "gc: objects in permanent generation: 0\n",
            "gc: done, 0 unreachable, 0 uncollectable, 0.0001s elapsed\n",
            "gc: collecting generation 1...\n",
            "gc: objects in each generation: 1078 21192 2766712\n",
            "gc: objects in permanent generation: 0\n",
            "gc: done, 0 unreachable, 0 uncollectable, 0.0016s elapsed\n",
            "gc: collecting generation 0...\n",
            "gc: objects in each generation: 1008 0 2788984\n",
            "gc: objects in permanent generation: 0\n",
            "gc: done, 0 unreachable, 0 uncollectable, 0.0001s elapsed\n",
            "gc: collecting generation 0...\n",
            "gc: objects in each generation: 1011 1036 2788948\n",
            "gc: objects in permanent generation: 0\n",
            "gc: done, 0 unreachable, 0 uncollectable, 0.0001s elapsed\n",
            "gc: collecting generation 0...\n",
            "gc: objects in each generation: 1012 2053 2788948\n",
            "gc: objects in permanent generation: 0\n",
            "gc: done, 0 unreachable, 0 uncollectable, 0.0001s elapsed\n",
            "gc: collecting generation 0...\n",
            "gc: objects in each generation: 1008 3071 2788942\n",
            "gc: objects in permanent generation: 0\n",
            "gc: done, 0 unreachable, 0 uncollectable, 0.0001s elapsed\n",
            "gc: collecting generation 0...\n",
            "gc: objects in each generation: 1009 4082 2788942\n",
            "gc: objects in permanent generation: 0\n",
            "gc: done, 0 unreachable, 0 uncollectable, 0.0001s elapsed\n",
            "gc: collecting generation 0...\n",
            "gc: objects in each generation: 1010 5090 2788942\n",
            "gc: objects in permanent generation: 0\n",
            "gc: done, 0 unreachable, 0 uncollectable, 0.0001s elapsed\n",
            "gc: collecting generation 0...\n",
            "gc: objects in each generation: 1014 6042 2788942\n",
            "gc: objects in permanent generation: 0\n",
            "gc: done, 0 unreachable, 0 uncollectable, 0.0001s elapsed\n",
            "gc: collecting generation 0...\n",
            "gc: objects in each generation: 1012 7026 2788942\n",
            "gc: objects in permanent generation: 0\n",
            "gc: done, 0 unreachable, 0 uncollectable, 0.0001s elapsed\n",
            "gc: collecting generation 0...\n",
            "gc: objects in each generation: 1010 8028 2788942\n",
            "gc: objects in permanent generation: 0\n",
            "gc: done, 0 unreachable, 0 uncollectable, 0.0001s elapsed\n",
            "gc: collecting generation 0...\n",
            "gc: objects in each generation: 1029 9083 2788937\n",
            "gc: objects in permanent generation: 0\n",
            "gc: done, 0 unreachable, 0 uncollectable, 0.0001s elapsed\n",
            "gc: collecting generation 0...\n",
            "gc: done, 0 unreachable, 0 uncollectable, 0.0001s elapsed\n",
            "gc: collecting generation 0...\n",
            "gc: objects in each generation: 1010 11128 2788937\n",
            "gc: objects in permanent generation: 0\n",
            "gc: done, 0 unreachable, 0 uncollectable, 0.0001s elapsed\n",
            "gc: collecting generation 0...\n",
            "gc: objects in each generation: 1012 12121 2788937\n",
            "gc: objects in permanent generation: 0\n",
            "gc: done, 0 unreachable, 0 uncollectable, 0.0001s elapsed\n",
            "gc: collecting generation 0...\n",
            "gc: objects in each generation: 1018 13116 2788937\n",
            "gc: objects in permanent generation: 0\n",
            "gc: done, 0 unreachable, 0 uncollectable, 0.0001s elapsed\n",
            "gc: collecting generation 0...\n",
            "gc: objects in each generation: 1013 14132 2788937\n",
            "gc: objects in permanent generation: 0\n",
            "gc: done, 0 unreachable, 0 uncollectable, 0.0001s elapsed\n",
            "gc: collecting generation 0...\n",
            "gc: objects in each generation: 1011 15136 2788937\n",
            "gc: objects in permanent generation: 0\n",
            "gc: done, 0 unreachable, 0 uncollectable, 0.0001s elapsed\n",
            "gc: collecting generation 0...\n",
            "gc: objects in each generation: 1010 16137 2788937\n",
            "gc: objects in permanent generation: 0\n",
            "gc: done, 0 unreachable, 0 uncollectable, 0.0001s elapsed\n",
            "gc: collecting generation 0...\n",
            "gc: objects in each generation: 1009 17161 2788937\n",
            "gc: objects in permanent generation: 0\n",
            "gc: done, 0 unreachable, 0 uncollectable, 0.0001s elapsed\n",
            "gc: collecting generation 0...\n",
            "gc: objects in each generation: 1009 18170 2788937\n",
            "gc: objects in permanent generation: 0\n",
            "gc: done, 0 unreachable, 0 uncollectable, 0.0001s elapsed\n",
            "gc: collecting generation 0...\n",
            "gc: objects in each generation: 1016 19137 2788937\n",
            "gc: objects in permanent generation: 0\n",
            "gc: done, 0 unreachable, 0 uncollectable, 0.0001s elapsed\n",
            "gc: collecting generation 0...\n",
            "gc: objects in each generation: 1011 20144 2788937\n",
            "gc: objects in permanent generation: 0\n",
            "gc: done, 0 unreachable, 0 uncollectable, 0.0001s elapsed\n",
            "gc: collecting generation 1...\n",
            "gc: objects in each generation: 1009 21161 2788937\n",
            "gc: objects in permanent generation: 0\n",
            "gc: done, 0 unreachable, 0 uncollectable, 0.0013s elapsed\n",
            "gc: collecting generation 0...\n",
            "gc: objects in each generation: 1012 0 2811122\n",
            "gc: objects in permanent generation: 0\n",
            "gc: done, 0 unreachable, 0 uncollectable, 0.0001s elapsed\n",
            "gc: collecting generation 0...\n",
            "gc: objects in each generation: 1007 1012 2811090\n",
            "gc: objects in permanent generation: 0\n",
            "gc: done, 0 unreachable, 0 uncollectable, 0.0001s elapsed\n",
            "gc: collecting generation 0...\n",
            "gc: objects in each generation: 1012 2032 2811088\n",
            "gc: objects in permanent generation: 0\n",
            "gc: done, 0 unreachable, 0 uncollectable, 0.0001s elapsed\n",
            "gc: collecting generation 0...\n",
            "gc: objects in each generation: 1010 3034 2811088\n",
            "gc: objects in permanent generation: 0\n",
            "gc: done, 0 unreachable, 0 uncollectable, 0.0001s elapsed\n",
            "gc: collecting generation 0...\n",
            "gc: objects in each generation: 1029 4054 2811056\n",
            "gc: objects in permanent generation: 0\n",
            "gc: done, 0 unreachable, 0 uncollectable, 0.0001s elapsed\n",
            "gc: collecting generation 0...\n",
            "gc: objects in each generation: 1014 5076 2811056\n",
            "gc: objects in permanent generation: 0\n",
            "gc: done, 0 unreachable, 0 uncollectable, 0.0001s elapsed\n",
            "gc: collecting generation 0...\n",
            "gc: objects in each generation: 1078 6063 2811053\n",
            "gc: objects in permanent generation: 0\n",
            "gc: done, 0 unreachable, 0 uncollectable, 0.0001s elapsed\n",
            "gc: collecting generation 0...\n",
            "gc: objects in each generation: 1012 7119 2811053\n",
            "gc: objects in permanent generation: 0\n",
            "gc: done, 0 unreachable, 0 uncollectable, 0.0001s elapsed\n",
            "gc: collecting generation 0...\n",
            "gc: objects in each generation: 1009 8146 2811053\n",
            "gc: objects in permanent generation: 0\n",
            "gc: done, 0 unreachable, 0 uncollectable, 0.0001s elapsed\n",
            "gc: collecting generation 0...\n",
            "gc: objects in each generation: 1017 9126 2811053\n",
            "gc: objects in permanent generation: 0\n",
            "gc: done, 0 unreachable, 0 uncollectable, 0.0001s elapsed\n",
            "gc: collecting generation 0...\n",
            "gc: objects in each generation: 1010 10133 2811053\n",
            "gc: objects in permanent generation: 0\n",
            "gc: done, 0 unreachable, 0 uncollectable, 0.0001s elapsed\n",
            "gc: collecting generation 0...\n",
            "gc: objects in each generation: 1011 11134 2811053\n",
            "gc: objects in permanent generation: 0\n",
            "gc: done, 0 unreachable, 0 uncollectable, 0.0001s elapsed\n",
            "gc: collecting generation 0...\n",
            "gc: objects in each generation: 1010 12155 2811053\n",
            "gc: objects in permanent generation: 0\n",
            "gc: done, 0 unreachable, 0 uncollectable, 0.0001s elapsed\n",
            "gc: collecting generation 0...\n",
            "gc: objects in each generation: 1008 13167 2811053\n",
            "gc: objects in permanent generation: 0\n",
            "gc: done, 0 unreachable, 0 uncollectable, 0.0001s elapsed\n",
            "gc: collecting generation 0...\n",
            "gc: objects in each generation: 1017 14134 2811053\n",
            "gc: objects in permanent generation: 0\n",
            "gc: done, 0 unreachable, 0 uncollectable, 0.0001s elapsed\n",
            "gc: collecting generation 0...\n",
            "gc: objects in each generation: 1010 15141 2811053\n",
            "gc: objects in permanent generation: 0\n",
            "gc: done, 0 unreachable, 0 uncollectable, 0.0001s elapsed\n",
            "gc: collecting generation 0...\n",
            "gc: objects in each generation: 1011 16142 2811053\n",
            "gc: objects in permanent generation: 0\n",
            "gc: done, 0 unreachable, 0 uncollectable, 0.0001s elapsed\n",
            "gc: collecting generation 0...\n"
          ]
        }
      ]
    },
    {
      "cell_type": "code",
      "source": [
        "gc.set_debug(False) # when the gc is happening - to show when\n",
        "\n",
        "start = time.perf_counter()\n",
        "\n",
        "for i in range(5000000):\n",
        "  l_temp = Link(l, value='L')\n",
        "\n",
        "  mylist.append(l_temp)\n",
        "\n",
        "end = time.perf_counter()\n",
        "\n",
        "print(end-start)"
      ],
      "metadata": {
        "colab": {
          "base_uri": "https://localhost:8080/"
        },
        "id": "FwBfAAQAln3b",
        "outputId": "9e1444bf-1b34-4e16-843a-2f47d9c95b28"
      },
      "execution_count": 12,
      "outputs": [
        {
          "output_type": "stream",
          "name": "stdout",
          "text": [
            "10.65782356700015\n"
          ]
        }
      ]
    },
    {
      "cell_type": "code",
      "source": [
        "gc.set_threshold(20000, 50, 100)\n",
        "# i have set a threshold above now lets see the time difference\n"
      ],
      "metadata": {
        "id": "Qo5UHAl8mHLT"
      },
      "execution_count": 13,
      "outputs": []
    },
    {
      "cell_type": "code",
      "source": [
        "start = time.perf_counter()\n",
        "\n",
        "for i in range(5000000):\n",
        "  l_temp = Link(l, value='L')\n",
        "\n",
        "  mylist.append(l_temp)\n",
        "\n",
        "end = time.perf_counter()\n",
        "\n",
        "print(end-start)"
      ],
      "metadata": {
        "colab": {
          "base_uri": "https://localhost:8080/"
        },
        "id": "FoI4r1VTmnit",
        "outputId": "fd525e19-027f-43c0-e4df-2b2861701a84"
      },
      "execution_count": 14,
      "outputs": [
        {
          "output_type": "stream",
          "name": "stdout",
          "text": [
            "6.284416901999975\n"
          ]
        }
      ]
    },
    {
      "cell_type": "code",
      "source": [
        "# coparitively very less time difference of 4.4 seconds"
      ],
      "metadata": {
        "id": "eY-WYT0ZmslZ"
      },
      "execution_count": null,
      "outputs": []
    },
    {
      "cell_type": "code",
      "source": [
        "# lets go exteme - disabling garbage collectiom"
      ],
      "metadata": {
        "id": "QHRUOHOBm28i"
      },
      "execution_count": null,
      "outputs": []
    },
    {
      "cell_type": "code",
      "source": [
        "gc.disable()\n",
        "\n",
        "start = time.perf_counter()\n",
        "\n",
        "for i in range(5000000):\n",
        "  l_temp = Link(l, value='L')\n",
        "\n",
        "  mylist.append(l_temp)\n",
        "\n",
        "end = time.perf_counter()\n",
        "\n",
        "print(end-start)"
      ],
      "metadata": {
        "colab": {
          "base_uri": "https://localhost:8080/"
        },
        "id": "zsbO8OvPm3AL",
        "outputId": "c91cbdae-141c-44cb-f748-dfe58344e5fe"
      },
      "execution_count": 15,
      "outputs": [
        {
          "output_type": "stream",
          "name": "stdout",
          "text": [
            "4.166001511999866\n"
          ]
        }
      ]
    },
    {
      "cell_type": "code",
      "source": [
        "gc.set_debug(True)\n",
        "gc.get_count()"
      ],
      "metadata": {
        "colab": {
          "base_uri": "https://localhost:8080/"
        },
        "id": "Spj3APlem8iL",
        "outputId": "3381e9ef-2844-4053-b7d0-619898669bfe"
      },
      "execution_count": 16,
      "outputs": [
        {
          "output_type": "execute_result",
          "data": {
            "text/plain": [
              "(10003376, 51, 81)"
            ]
          },
          "metadata": {},
          "execution_count": 16
        }
      ]
    },
    {
      "cell_type": "code",
      "source": [
        "gc.collect(0) # generation 0"
      ],
      "metadata": {
        "colab": {
          "base_uri": "https://localhost:8080/"
        },
        "id": "g97O-OgWnJlQ",
        "outputId": "1c8fe420-3680-46af-e65d-5b3bbe38380a"
      },
      "execution_count": 17,
      "outputs": [
        {
          "output_type": "stream",
          "name": "stderr",
          "text": [
            "gc: collecting generation 0...\n",
            "gc: objects in each generation: 10004391 1020094 19099894\n",
            "gc: objects in permanent generation: 0\n",
            "gc: done, 3662 unreachable, 0 uncollectable, 0.6292s elapsed\n"
          ]
        },
        {
          "output_type": "execute_result",
          "data": {
            "text/plain": [
              "3662"
            ]
          },
          "metadata": {},
          "execution_count": 17
        }
      ]
    },
    {
      "cell_type": "code",
      "source": [
        "gc.get_count()"
      ],
      "metadata": {
        "colab": {
          "base_uri": "https://localhost:8080/"
        },
        "id": "Or-oZORpnPHX",
        "outputId": "2f1f34ee-0a26-4f30-be78-fb76426426d8"
      },
      "execution_count": 18,
      "outputs": [
        {
          "output_type": "execute_result",
          "data": {
            "text/plain": [
              "(67, 52, 81)"
            ]
          },
          "metadata": {},
          "execution_count": 18
        }
      ]
    },
    {
      "cell_type": "code",
      "source": [
        "gc.collect(0)"
      ],
      "metadata": {
        "colab": {
          "base_uri": "https://localhost:8080/"
        },
        "id": "JomQEytqnUCf",
        "outputId": "12ecfd1d-fd01-456e-8bf6-2f2efcf0c7a8"
      },
      "execution_count": 19,
      "outputs": [
        {
          "output_type": "stream",
          "name": "stderr",
          "text": [
            "gc: collecting generation 0...\n",
            "gc: objects in each generation: 194 11020370 19099894\n",
            "gc: objects in permanent generation: 0\n",
            "gc: done, 0 unreachable, 0 uncollectable, 0.0001s elapsed\n"
          ]
        },
        {
          "output_type": "execute_result",
          "data": {
            "text/plain": [
              "0"
            ]
          },
          "metadata": {},
          "execution_count": 19
        }
      ]
    },
    {
      "cell_type": "code",
      "source": [
        "gc.get_count()"
      ],
      "metadata": {
        "colab": {
          "base_uri": "https://localhost:8080/"
        },
        "id": "c-YIkFy5nWbu",
        "outputId": "18eeb501-931e-4769-bbaa-932c02c88682"
      },
      "execution_count": 20,
      "outputs": [
        {
          "output_type": "execute_result",
          "data": {
            "text/plain": [
              "(74, 53, 81)"
            ]
          },
          "metadata": {},
          "execution_count": 20
        }
      ]
    },
    {
      "cell_type": "code",
      "source": [
        "gc.collect(2)"
      ],
      "metadata": {
        "colab": {
          "base_uri": "https://localhost:8080/"
        },
        "id": "rJMIVptXnX4k",
        "outputId": "f922e4ea-7305-48c4-d147-b700ed934f80"
      },
      "execution_count": 22,
      "outputs": [
        {
          "output_type": "stream",
          "name": "stderr",
          "text": [
            "gc: collecting generation 2...\n",
            "gc: objects in each generation: 1079 11020373 19099894\n",
            "gc: objects in permanent generation: 0\n",
            "gc: done, 812 unreachable, 0 uncollectable, 3.0743s elapsed\n"
          ]
        },
        {
          "output_type": "execute_result",
          "data": {
            "text/plain": [
              "812"
            ]
          },
          "metadata": {},
          "execution_count": 22
        }
      ]
    },
    {
      "cell_type": "code",
      "source": [
        "gc.collect(1)"
      ],
      "metadata": {
        "colab": {
          "base_uri": "https://localhost:8080/"
        },
        "id": "koSdTX7endla",
        "outputId": "37b4cb11-207b-49a0-8c26-caac665c9966"
      },
      "execution_count": 23,
      "outputs": [
        {
          "output_type": "stream",
          "name": "stderr",
          "text": [
            "gc: collecting generation 1...\n",
            "gc: objects in each generation: 204 0 30120279\n",
            "gc: objects in permanent generation: 0\n",
            "gc: done, 0 unreachable, 0 uncollectable, 0.0002s elapsed\n"
          ]
        },
        {
          "output_type": "execute_result",
          "data": {
            "text/plain": [
              "0"
            ]
          },
          "metadata": {},
          "execution_count": 23
        }
      ]
    },
    {
      "cell_type": "code",
      "source": [
        "gc.collect(0)"
      ],
      "metadata": {
        "colab": {
          "base_uri": "https://localhost:8080/"
        },
        "id": "wb5K1qNWngsw",
        "outputId": "42046588-8872-409e-f6d6-f0213b2788b7"
      },
      "execution_count": 24,
      "outputs": [
        {
          "output_type": "stream",
          "name": "stderr",
          "text": [
            "gc: collecting generation 0...\n",
            "gc: objects in each generation: 204 0 30120286\n",
            "gc: objects in permanent generation: 0\n",
            "gc: done, 0 unreachable, 0 uncollectable, 0.0001s elapsed\n"
          ]
        },
        {
          "output_type": "execute_result",
          "data": {
            "text/plain": [
              "0"
            ]
          },
          "metadata": {},
          "execution_count": 24
        }
      ]
    },
    {
      "cell_type": "code",
      "source": [
        "gc.get_count()"
      ],
      "metadata": {
        "colab": {
          "base_uri": "https://localhost:8080/"
        },
        "id": "VzJbAwrKnjIh",
        "outputId": "60ae8be5-c13d-4c8c-8d38-7bb08b526fb5"
      },
      "execution_count": 25,
      "outputs": [
        {
          "output_type": "execute_result",
          "data": {
            "text/plain": [
              "(74, 1, 1)"
            ]
          },
          "metadata": {},
          "execution_count": 25
        }
      ]
    },
    {
      "cell_type": "code",
      "source": [],
      "metadata": {
        "id": "X3vFt_w-nkY1"
      },
      "execution_count": null,
      "outputs": []
    }
  ]
}