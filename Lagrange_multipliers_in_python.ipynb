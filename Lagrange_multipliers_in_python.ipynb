{
  "nbformat": 4,
  "nbformat_minor": 0,
  "metadata": {
    "colab": {
      "provenance": []
    },
    "kernelspec": {
      "name": "python3",
      "display_name": "Python 3"
    },
    "language_info": {
      "name": "python"
    }
  },
  "cells": [
    {
      "cell_type": "code",
      "execution_count": 1,
      "metadata": {
        "colab": {
          "base_uri": "https://localhost:8080/"
        },
        "id": "1aPylF_MCzCo",
        "outputId": "2263dafb-2d4b-4eed-b307-ee9bbc6e1919"
      },
      "outputs": [
        {
          "output_type": "stream",
          "name": "stdout",
          "text": [
            "Requirement already satisfied: sympy in /usr/local/lib/python3.10/dist-packages (1.12.1)\n",
            "Requirement already satisfied: mpmath<1.4.0,>=1.1.0 in /usr/local/lib/python3.10/dist-packages (from sympy) (1.3.0)\n"
          ]
        }
      ],
      "source": [
        "!pip install sympy # symbolic mathematics in python"
      ]
    },
    {
      "cell_type": "code",
      "source": [
        "import sympy as sp\n",
        "import numpy as np\n",
        "import pandas as pd"
      ],
      "metadata": {
        "id": "cVYVq5xSDN9P"
      },
      "execution_count": 2,
      "outputs": []
    },
    {
      "cell_type": "code",
      "source": [
        "x, y, l = sp.symbols('x y l') # lambda"
      ],
      "metadata": {
        "id": "cA78koilDDoY"
      },
      "execution_count": 3,
      "outputs": []
    },
    {
      "cell_type": "code",
      "source": [
        "import sympy as sp\n",
        "\n",
        "# Define the variables\n",
        "x, y, l = sp.symbols('x y l')\n",
        "\n",
        "# Define the functions f and g\n",
        "f = 2 * x**2 - 2 * y**2\n",
        "g = x**2 + y**2 - 2\n",
        "\n",
        "# Define the Lagrangian function F\n",
        "F = f + l * g\n",
        "\n",
        "# Compute the partial derivatives of F\n",
        "Fx = sp.diff(F, x)\n",
        "Fy = sp.diff(F, y)\n",
        "Fl = sp.diff(F, l)\n",
        "\n",
        "# Solve the system of equations Fx = 0, Fy = 0, Fl = 0\n",
        "solutions = sp.solve([Fx, Fy, Fl], [x, y, l])\n",
        "\n",
        "# Print the solutions\n",
        "print(solutions)"
      ],
      "metadata": {
        "colab": {
          "base_uri": "https://localhost:8080/"
        },
        "id": "wvJlw3cQDDrF",
        "outputId": "b67a3ada-87a3-4bec-d6f5-79057d762367"
      },
      "execution_count": 6,
      "outputs": [
        {
          "output_type": "stream",
          "name": "stdout",
          "text": [
            "[(-sqrt(2), 0, -2), (sqrt(2), 0, -2), (0, -sqrt(2), 2), (0, sqrt(2), 2)]\n"
          ]
        }
      ]
    },
    {
      "cell_type": "code",
      "source": [
        "import sympy as sp\n",
        "\n",
        "# Define the variables\n",
        "x, y, z, l = sp.symbols('x y z l')\n",
        "\n",
        "# Define the functions f and g\n",
        "f = x - y + z**2\n",
        "g = x**2 + y**2 + z**2 - 2\n",
        "\n",
        "# Define the Lagrangian function F\n",
        "F = f + l * g\n",
        "\n",
        "# Compute the partial derivatives of F\n",
        "Fx = sp.diff(F, x)\n",
        "Fy = sp.diff(F, y)\n",
        "Fl = sp.diff(F, l)\n",
        "Fz = sp.diff(F, z)\n",
        "\n",
        "# Solve the system of equations Fx = 0, Fy = 0, Fl = 0\n",
        "solutions = sp.solve([Fx, Fy, Fl, Fz], [x, y, z, l])\n",
        "\n",
        "# Print the solutions\n",
        "print(solutions)"
      ],
      "metadata": {
        "colab": {
          "base_uri": "https://localhost:8080/"
        },
        "id": "P2WfqLxVDDtf",
        "outputId": "2e5be45b-2cc7-4607-981b-3315eb9e8227"
      },
      "execution_count": 11,
      "outputs": [
        {
          "output_type": "stream",
          "name": "stdout",
          "text": [
            "[(1/2, -1/2, -sqrt(6)/2, -1), (1/2, -1/2, sqrt(6)/2, -1), (1, -1, 0, -1/2), (-1, 1, 0, 1/2)]\n"
          ]
        }
      ]
    },
    {
      "cell_type": "code",
      "source": [],
      "metadata": {
        "id": "EwuosktzDDv1"
      },
      "execution_count": 11,
      "outputs": []
    }
  ]
}