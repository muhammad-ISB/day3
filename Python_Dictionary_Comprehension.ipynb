{
  "cells": [
    {
      "cell_type": "code",
      "execution_count": null,
      "metadata": {
        "id": "nedfhrHZFUAs"
      },
      "outputs": [],
      "source": [
        "# 1 - Add 15 to each value"
      ]
    },
    {
      "cell_type": "code",
      "execution_count": null,
      "metadata": {
        "id": "7wS2lk6oLGUU"
      },
      "outputs": [],
      "source": [
        "concerts = {\n",
        "    'Trivium': 100,\n",
        "    'Nine Inch Nails': 120,\n",
        "    'nine inch': 120,\n",
        "    'queers': 90,\n",
        "    'foo': 110\n",
        "}"
      ]
    },
    {
      "cell_type": "code",
      "execution_count": null,
      "metadata": {
        "colab": {
          "base_uri": "https://localhost:8080/"
        },
        "id": "2Sa5m0emLGXW",
        "outputId": "23572dd3-198d-429e-efad-64d3fe1c1d92"
      },
      "outputs": [
        {
          "data": {
            "text/plain": [
              "{'Trivium': 115,\n",
              " 'Nine Inch Nails': 135,\n",
              " 'nine inch': 135,\n",
              " 'queers': 105,\n",
              " 'foo': 125}"
            ]
          },
          "execution_count": 6,
          "metadata": {},
          "output_type": "execute_result"
        }
      ],
      "source": [
        "new_concert = {\n",
        "    key: value + 15 for (key, value) in concerts.items()\n",
        "}\n",
        "new_concert"
      ]
    },
    {
      "cell_type": "code",
      "execution_count": null,
      "metadata": {
        "colab": {
          "base_uri": "https://localhost:8080/"
        },
        "id": "5xZVDVI2LGaw",
        "outputId": "de376396-306f-402e-8e52-1686bfb9ddbc"
      },
      "outputs": [
        {
          "data": {
            "text/plain": [
              "dict_items([('Trivium', 100), ('Nine Inch Nails', 120), ('nine inch', 120), ('queers', 90), ('foo', 110)])"
            ]
          },
          "execution_count": 2,
          "metadata": {},
          "output_type": "execute_result"
        }
      ],
      "source": [
        "concerts.items()"
      ]
    },
    {
      "cell_type": "code",
      "execution_count": null,
      "metadata": {
        "colab": {
          "base_uri": "https://localhost:8080/"
        },
        "id": "NPee5sx0Iqcz",
        "outputId": "cea25d8c-bd92-482f-81e5-a485438e13bf"
      },
      "outputs": [
        {
          "data": {
            "text/plain": [
              "dict_keys(['Trivium', 'Nine Inch Nails', 'nine inch', 'queers', 'foo'])"
            ]
          },
          "execution_count": 3,
          "metadata": {},
          "output_type": "execute_result"
        }
      ],
      "source": [
        "concerts.keys()"
      ]
    },
    {
      "cell_type": "code",
      "execution_count": null,
      "metadata": {
        "colab": {
          "base_uri": "https://localhost:8080/"
        },
        "id": "vNUNLQhuIqfW",
        "outputId": "2729cc9a-77b3-487b-8e79-64d8e50f0448"
      },
      "outputs": [
        {
          "data": {
            "text/plain": [
              "dict_values([100, 120, 120, 90, 110])"
            ]
          },
          "execution_count": 4,
          "metadata": {},
          "output_type": "execute_result"
        }
      ],
      "source": [
        "concerts.values()"
      ]
    },
    {
      "cell_type": "code",
      "execution_count": null,
      "metadata": {
        "id": "RabniHjqIqh4"
      },
      "outputs": [],
      "source": [
        "# 2  IF statement"
      ]
    },
    {
      "cell_type": "code",
      "execution_count": null,
      "metadata": {
        "colab": {
          "background_save": true
        },
        "id": "C1G_AYBEIqk3"
      },
      "outputs": [],
      "source": [
        "filtered_bands = {\n",
        "    band: DB for band, DB in concerts.items() if DB < 101\n",
        "}\n",
        "filtered_bands"
      ]
    },
    {
      "cell_type": "code",
      "execution_count": null,
      "metadata": {
        "id": "u75d6Q5oIqnc"
      },
      "outputs": [],
      "source": []
    },
    {
      "cell_type": "code",
      "execution_count": null,
      "metadata": {
        "id": "39r6c2qsIqqZ"
      },
      "outputs": [],
      "source": []
    },
    {
      "cell_type": "code",
      "execution_count": null,
      "metadata": {
        "id": "u1M9nk-1IqtZ"
      },
      "outputs": [],
      "source": []
    },
    {
      "cell_type": "code",
      "execution_count": null,
      "metadata": {
        "id": "xzFAsTYxIqwD"
      },
      "outputs": [],
      "source": []
    },
    {
      "cell_type": "code",
      "execution_count": null,
      "metadata": {
        "id": "FMM-woYMIqy3"
      },
      "outputs": [],
      "source": []
    },
    {
      "cell_type": "code",
      "execution_count": null,
      "metadata": {
        "id": "V3GE9Y2KIq1d"
      },
      "outputs": [],
      "source": []
    },
    {
      "cell_type": "code",
      "execution_count": null,
      "metadata": {
        "id": "6qnBVPAAIq4e"
      },
      "outputs": [],
      "source": []
    },
    {
      "cell_type": "code",
      "execution_count": null,
      "metadata": {
        "id": "j649fq11Iq7K"
      },
      "outputs": [],
      "source": []
    },
    {
      "cell_type": "code",
      "execution_count": null,
      "metadata": {
        "id": "r590ng8KIq-T"
      },
      "outputs": [],
      "source": []
    },
    {
      "cell_type": "code",
      "execution_count": null,
      "metadata": {
        "id": "OMJPqSlHIrA4"
      },
      "outputs": [],
      "source": []
    },
    {
      "cell_type": "code",
      "execution_count": null,
      "metadata": {
        "id": "HowQdtGUIrDs"
      },
      "outputs": [],
      "source": []
    },
    {
      "cell_type": "code",
      "execution_count": null,
      "metadata": {
        "id": "Qx2uVVNwIrGl"
      },
      "outputs": [],
      "source": []
    }
  ],
  "metadata": {
    "colab": {
      "provenance": []
    },
    "kernelspec": {
      "display_name": "Python 3",
      "name": "python3"
    },
    "language_info": {
      "name": "python"
    }
  },
  "nbformat": 4,
  "nbformat_minor": 0
}