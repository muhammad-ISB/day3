{
  "nbformat": 4,
  "nbformat_minor": 0,
  "metadata": {
    "colab": {
      "provenance": []
    },
    "kernelspec": {
      "name": "python3",
      "display_name": "Python 3"
    },
    "language_info": {
      "name": "python"
    }
  },
  "cells": [
    {
      "cell_type": "code",
      "execution_count": 1,
      "metadata": {
        "colab": {
          "base_uri": "https://localhost:8080/"
        },
        "id": "ZHoSScXuphP7",
        "outputId": "8689125c-5e9a-4956-b226-5e1f40a3c4e2"
      },
      "outputs": [
        {
          "output_type": "stream",
          "name": "stdout",
          "text": [
            "Hello, someone\n"
          ]
        }
      ],
      "source": [
        "name = 'someone'\n",
        "print(f'Hello, {name}')"
      ]
    },
    {
      "cell_type": "code",
      "source": [
        "# multiple\n",
        "\n",
        "state = 'telangana'\n",
        "\n",
        "print(f'Hello, {name} from {state}')"
      ],
      "metadata": {
        "colab": {
          "base_uri": "https://localhost:8080/"
        },
        "id": "RBZzo6wopv5y",
        "outputId": "ab1b4cef-f902-4f9a-a225-eeaac412f008"
      },
      "execution_count": 2,
      "outputs": [
        {
          "output_type": "stream",
          "name": "stdout",
          "text": [
            "Hello, someone from telangana\n"
          ]
        }
      ]
    },
    {
      "cell_type": "code",
      "source": [
        "# building upon\n",
        "\n",
        "print(f'Hello, {name.upper()} from {state.upper()}')"
      ],
      "metadata": {
        "colab": {
          "base_uri": "https://localhost:8080/"
        },
        "id": "l_ythi7Jp2Xv",
        "outputId": "86de7994-de07-43e9-f28e-ccf05b3bc381"
      },
      "execution_count": 3,
      "outputs": [
        {
          "output_type": "stream",
          "name": "stdout",
          "text": [
            "Hello, SOMEONE from TELANGANA\n"
          ]
        }
      ]
    },
    {
      "cell_type": "code",
      "source": [
        "# classes\n",
        "\n",
        "class player:\n",
        "  def __init__(self, name, team):\n",
        "    self.name = name\n",
        "    self.team = team\n",
        "\n",
        "player1 = player('virat', 'csk')\n",
        "player2 = player('dhoni', 'rcb')"
      ],
      "metadata": {
        "id": "n47me201p2bP"
      },
      "execution_count": 4,
      "outputs": []
    },
    {
      "cell_type": "code",
      "source": [
        "print(f'player: {player1.name}, Team: {player1.team}')\n",
        "print(f'player: {player2.name}, Team: {player2.team}')"
      ],
      "metadata": {
        "colab": {
          "base_uri": "https://localhost:8080/"
        },
        "id": "y7xEXnhOp2d5",
        "outputId": "015a3a31-4bf2-4114-94ea-a9aba5177abb"
      },
      "execution_count": 5,
      "outputs": [
        {
          "output_type": "stream",
          "name": "stdout",
          "text": [
            "player: virat, Team: csk\n",
            "player: dhoni, Team: rcb\n"
          ]
        }
      ]
    },
    {
      "cell_type": "code",
      "source": [
        "# math in f strings"
      ],
      "metadata": {
        "id": "8BDQ5-EWrORh"
      },
      "execution_count": null,
      "outputs": []
    },
    {
      "cell_type": "code",
      "source": [
        "print(f' 5 squared: {5**2}')"
      ],
      "metadata": {
        "colab": {
          "base_uri": "https://localhost:8080/"
        },
        "id": "lyokhwjzp2gl",
        "outputId": "f479fb7e-2f5e-45eb-d4b0-1a64015538f8"
      },
      "execution_count": 6,
      "outputs": [
        {
          "output_type": "stream",
          "name": "stdout",
          "text": [
            " 5 squared: 25\n"
          ]
        }
      ]
    },
    {
      "cell_type": "code",
      "source": [
        "a = 5\n",
        "b = 13\n",
        "\n",
        "print(f'what is {a} * {b}? It\"s {a * b}' )"
      ],
      "metadata": {
        "colab": {
          "base_uri": "https://localhost:8080/"
        },
        "id": "O_XQtiQ3rGBc",
        "outputId": "ce6a83b5-b068-4bee-f3fc-0340e827d9cd"
      },
      "execution_count": 7,
      "outputs": [
        {
          "output_type": "stream",
          "name": "stdout",
          "text": [
            "what is 5 * 13? It\"s 65\n"
          ]
        }
      ]
    },
    {
      "cell_type": "code",
      "source": [
        "# padding"
      ],
      "metadata": {
        "id": "-dctxeEurGEK"
      },
      "execution_count": 8,
      "outputs": []
    },
    {
      "cell_type": "code",
      "source": [
        "x = 5\n",
        "\n",
        "print(f'format {x:02}')"
      ],
      "metadata": {
        "colab": {
          "base_uri": "https://localhost:8080/"
        },
        "id": "gTIKMgjirGH8",
        "outputId": "f8c98ec6-caa4-47f2-99e1-308e33b711b2"
      },
      "execution_count": 10,
      "outputs": [
        {
          "output_type": "stream",
          "name": "stdout",
          "text": [
            "format 05\n"
          ]
        }
      ]
    },
    {
      "cell_type": "code",
      "source": [
        "print(f'format {x:06}') # see the increase in number of 0 added"
      ],
      "metadata": {
        "colab": {
          "base_uri": "https://localhost:8080/"
        },
        "id": "2PjfG45jrGLE",
        "outputId": "56be2d87-0cf9-4f6a-8253-c28d158c9655"
      },
      "execution_count": 11,
      "outputs": [
        {
          "output_type": "stream",
          "name": "stdout",
          "text": [
            "format 000005\n"
          ]
        }
      ]
    },
    {
      "cell_type": "code",
      "source": [
        "# precision ~~~ rounding"
      ],
      "metadata": {
        "id": "9TCbiCaNrGOl"
      },
      "execution_count": 12,
      "outputs": []
    },
    {
      "cell_type": "code",
      "source": [
        "x = 5.111111111111111111111111111111111111111111111111111111111111111"
      ],
      "metadata": {
        "id": "fKwUGFV-rGSG"
      },
      "execution_count": 13,
      "outputs": []
    },
    {
      "cell_type": "code",
      "source": [
        "print(f'format {x:.2}') # i am using 0.2"
      ],
      "metadata": {
        "colab": {
          "base_uri": "https://localhost:8080/"
        },
        "id": "BZSElv0mp2jU",
        "outputId": "31611971-0717-4d18-9198-6034b766c02d"
      },
      "execution_count": 15,
      "outputs": [
        {
          "output_type": "stream",
          "name": "stdout",
          "text": [
            "format 5.1\n"
          ]
        }
      ]
    },
    {
      "cell_type": "code",
      "source": [
        "print(f'format {x:.6}')"
      ],
      "metadata": {
        "colab": {
          "base_uri": "https://localhost:8080/"
        },
        "id": "2G0VKOZgp2lj",
        "outputId": "27c1b7fa-fe38-43dd-a126-f18eefaacb47"
      },
      "execution_count": 16,
      "outputs": [
        {
          "output_type": "stream",
          "name": "stdout",
          "text": [
            "format 5.11111\n"
          ]
        }
      ]
    },
    {
      "cell_type": "code",
      "source": [
        "# dates"
      ],
      "metadata": {
        "id": "8olJkvZGp2oI"
      },
      "execution_count": null,
      "outputs": []
    },
    {
      "cell_type": "code",
      "source": [
        "from datetime import datetime\n",
        "\n",
        "random_date = datetime(2011,1,1)\n",
        "\n",
        "formatted_date = random_date.strftime('%B %d %Y')"
      ],
      "metadata": {
        "id": "3az3CFXWp2qm"
      },
      "execution_count": 17,
      "outputs": []
    },
    {
      "cell_type": "code",
      "source": [
        "print(f'Date Formatted: {formatted_date}')"
      ],
      "metadata": {
        "colab": {
          "base_uri": "https://localhost:8080/"
        },
        "id": "mMzDnitbp2uI",
        "outputId": "efdc433e-9752-4dd9-fd59-adc85b3eead5"
      },
      "execution_count": 18,
      "outputs": [
        {
          "output_type": "stream",
          "name": "stdout",
          "text": [
            "Date Formatted: January 01 2011\n"
          ]
        }
      ]
    },
    {
      "cell_type": "code",
      "source": [
        "# Dicitonaries"
      ],
      "metadata": {
        "id": "Ng9TyCd-p220"
      },
      "execution_count": 19,
      "outputs": []
    },
    {
      "cell_type": "code",
      "source": [
        "player = {'name': 'abdviller', 'team': ' rcb', 'number':22}\n",
        "player"
      ],
      "metadata": {
        "colab": {
          "base_uri": "https://localhost:8080/"
        },
        "id": "mWvqCbAep26N",
        "outputId": "7c922984-2658-49d0-c1fc-0d29aca55175"
      },
      "execution_count": 21,
      "outputs": [
        {
          "output_type": "execute_result",
          "data": {
            "text/plain": [
              "{'name': 'abdviller', 'team': ' rcb', 'number': 22}"
            ]
          },
          "metadata": {},
          "execution_count": 21
        }
      ]
    },
    {
      "cell_type": "code",
      "source": [
        "# print(f'All star {player['name']}, is from {player[\"team\"]} and has a {player['number']}') # classsic example of usage and importance of \"\" and ''\n",
        "print(f'All star {player[\"name\"]}, is from {player[\"team\"]} and has a {player[\"number\"]}')"
      ],
      "metadata": {
        "colab": {
          "base_uri": "https://localhost:8080/"
        },
        "id": "R41qFAMGtW5c",
        "outputId": "38dc9169-4aa6-46fb-ddc7-c64dc9e13f27"
      },
      "execution_count": 24,
      "outputs": [
        {
          "output_type": "stream",
          "name": "stdout",
          "text": [
            "All star abdviller, is from  rcb and has a 22\n"
          ]
        }
      ]
    },
    {
      "cell_type": "code",
      "source": [
        "# multi line f strings"
      ],
      "metadata": {
        "id": "GlG0qF6_tm57"
      },
      "execution_count": null,
      "outputs": []
    },
    {
      "cell_type": "code",
      "source": [
        "name = 'abdviller'\n",
        "team = ' rcb'\n",
        "number = 22"
      ],
      "metadata": {
        "id": "jouxHZY9uZaW"
      },
      "execution_count": 35,
      "outputs": []
    },
    {
      "cell_type": "code",
      "source": [
        "player = f\"\"\"\n",
        "name: {name}\n",
        "team: {team}\n",
        "number: {number}\n",
        "\"\"\"\n",
        "player"
      ],
      "metadata": {
        "colab": {
          "base_uri": "https://localhost:8080/",
          "height": 36
        },
        "id": "R7Ht5_WMuZdF",
        "outputId": "ac664274-7b5f-4486-a594-c6839acf8080"
      },
      "execution_count": 36,
      "outputs": [
        {
          "output_type": "execute_result",
          "data": {
            "text/plain": [
              "'\\nname: abdviller\\nteam:  rcb\\nnumber: 22\\n'"
            ],
            "application/vnd.google.colaboratory.intrinsic+json": {
              "type": "string"
            }
          },
          "metadata": {},
          "execution_count": 36
        }
      ]
    },
    {
      "cell_type": "code",
      "source": [
        "print(player)"
      ],
      "metadata": {
        "colab": {
          "base_uri": "https://localhost:8080/"
        },
        "id": "2J6gtfn0uZfw",
        "outputId": "2dd5db5d-e075-44e3-eafd-43fa3b8e2797"
      },
      "execution_count": 37,
      "outputs": [
        {
          "output_type": "stream",
          "name": "stdout",
          "text": [
            "\n",
            "name: abdviller\n",
            "team:  rcb\n",
            "number: 22\n",
            "\n"
          ]
        }
      ]
    },
    {
      "cell_type": "code",
      "source": [
        "for i in range(3,7):\n",
        "  print(f\"Number: {i}: {i**2}\")"
      ],
      "metadata": {
        "colab": {
          "base_uri": "https://localhost:8080/"
        },
        "id": "fzeOpvTnuZiU",
        "outputId": "77cd3de1-1b57-477c-943f-53d9218a8255"
      },
      "execution_count": 38,
      "outputs": [
        {
          "output_type": "stream",
          "name": "stdout",
          "text": [
            "Number: 3: 9\n",
            "Number: 4: 16\n",
            "Number: 5: 25\n",
            "Number: 6: 36\n"
          ]
        }
      ]
    },
    {
      "cell_type": "code",
      "source": [],
      "metadata": {
        "id": "A3sBiJeRuZkT"
      },
      "execution_count": null,
      "outputs": []
    },
    {
      "cell_type": "code",
      "source": [],
      "metadata": {
        "id": "DDMd8Ox2uZmh"
      },
      "execution_count": null,
      "outputs": []
    },
    {
      "cell_type": "code",
      "source": [],
      "metadata": {
        "id": "vZqBrJNYuZp-"
      },
      "execution_count": null,
      "outputs": []
    }
  ]
}