{
  "nbformat": 4,
  "nbformat_minor": 0,
  "metadata": {
    "colab": {
      "provenance": []
    },
    "kernelspec": {
      "name": "python3",
      "display_name": "Python 3"
    },
    "language_info": {
      "name": "python"
    }
  },
  "cells": [
    {
      "cell_type": "markdown",
      "source": [
        "## Print function"
      ],
      "metadata": {
        "id": "1aCWlyM5XUDH"
      }
    },
    {
      "cell_type": "code",
      "execution_count": null,
      "metadata": {
        "colab": {
          "base_uri": "https://localhost:8080/"
        },
        "id": "EEFJKtm9WN-v",
        "outputId": "8d4c9b2d-1ce7-4091-8fe4-92d1277d9004"
      },
      "outputs": [
        {
          "output_type": "stream",
          "name": "stdout",
          "text": [
            "my name is |ashraf|and i am of |23|years old\n"
          ]
        }
      ],
      "source": [
        "age = 23\n",
        "name = 'ashraf'\n",
        "\n",
        "print('my name is ', name,'and i am of ', age, 'years old', sep= \"|\" )"
      ]
    },
    {
      "cell_type": "code",
      "source": [
        "print('my name is ', name,'and i am of ', age, 'years old', sep= \",\" )"
      ],
      "metadata": {
        "colab": {
          "base_uri": "https://localhost:8080/"
        },
        "id": "KI_1cwvgWoof",
        "outputId": "dfc71603-b8d2-4a6a-f02a-4383b1956637"
      },
      "execution_count": null,
      "outputs": [
        {
          "output_type": "stream",
          "name": "stdout",
          "text": [
            "my name is ,ashraf,and i am of ,23,years old\n"
          ]
        }
      ]
    },
    {
      "cell_type": "code",
      "source": [
        "print('I am', name)"
      ],
      "metadata": {
        "colab": {
          "base_uri": "https://localhost:8080/"
        },
        "id": "9edOLVT-WuQ0",
        "outputId": "15623774-b8bf-4645-bc25-dccc7fc7b74f"
      },
      "execution_count": null,
      "outputs": [
        {
          "output_type": "stream",
          "name": "stdout",
          "text": [
            "I am ashraf\n"
          ]
        }
      ]
    },
    {
      "cell_type": "code",
      "source": [
        "print('hello world', end = \"|\")\n",
        "print(' I am', name)"
      ],
      "metadata": {
        "colab": {
          "base_uri": "https://localhost:8080/"
        },
        "id": "IhnVZEzGWuTT",
        "outputId": "e9fb151f-4b01-4fd1-9050-023f4025788b"
      },
      "execution_count": null,
      "outputs": [
        {
          "output_type": "stream",
          "name": "stdout",
          "text": [
            "hello world|I am ashraf\n"
          ]
        }
      ]
    },
    {
      "cell_type": "markdown",
      "source": [
        "## Help function"
      ],
      "metadata": {
        "id": "780gs6btXd8e"
      }
    },
    {
      "cell_type": "code",
      "source": [
        "help(print)"
      ],
      "metadata": {
        "colab": {
          "base_uri": "https://localhost:8080/"
        },
        "id": "_Qs26WsEWuVu",
        "outputId": "b9ce9bc1-2647-424c-d067-cd24597dd04f"
      },
      "execution_count": null,
      "outputs": [
        {
          "output_type": "stream",
          "name": "stdout",
          "text": [
            "Help on built-in function print in module builtins:\n",
            "\n",
            "print(...)\n",
            "    print(value, ..., sep=' ', end='\\n', file=sys.stdout, flush=False)\n",
            "    \n",
            "    Prints the values to a stream, or to sys.stdout by default.\n",
            "    Optional keyword arguments:\n",
            "    file:  a file-like object (stream); defaults to the current sys.stdout.\n",
            "    sep:   string inserted between values, default a space.\n",
            "    end:   string appended after the last value, default a newline.\n",
            "    flush: whether to forcibly flush the stream.\n",
            "\n"
          ]
        }
      ]
    },
    {
      "cell_type": "code",
      "source": [
        "# custom function\n",
        "def test_func(a,b):\n",
        "  \"\"\"\n",
        "  a: value 1\n",
        "  b: value 2\n",
        "\n",
        "  returns: int\n",
        "  \"\"\"\n",
        "  return a+b"
      ],
      "metadata": {
        "id": "G_P0Gc-gWuYL"
      },
      "execution_count": null,
      "outputs": []
    },
    {
      "cell_type": "code",
      "source": [
        "help(test_func)"
      ],
      "metadata": {
        "colab": {
          "base_uri": "https://localhost:8080/"
        },
        "id": "E3S77zDaWuar",
        "outputId": "e0770a7f-9bc0-4a25-d2a6-bff8cf7c7985"
      },
      "execution_count": null,
      "outputs": [
        {
          "output_type": "stream",
          "name": "stdout",
          "text": [
            "Help on function test_func in module __main__:\n",
            "\n",
            "test_func(a, b)\n",
            "    a: value 1\n",
            "    b: value 2\n",
            "    \n",
            "    returns: int\n",
            "\n"
          ]
        }
      ]
    },
    {
      "cell_type": "markdown",
      "source": [
        "## Range function"
      ],
      "metadata": {
        "id": "l1anProvX--N"
      }
    },
    {
      "cell_type": "code",
      "source": [
        "rng = range(10)\n",
        "print(list(rng))"
      ],
      "metadata": {
        "colab": {
          "base_uri": "https://localhost:8080/"
        },
        "id": "ggPJbf-_Wud-",
        "outputId": "8ff573ea-efb1-4437-af9c-26bb3ad686af"
      },
      "execution_count": null,
      "outputs": [
        {
          "output_type": "stream",
          "name": "stdout",
          "text": [
            "[0, 1, 2, 3, 4, 5, 6, 7, 8, 9]\n"
          ]
        }
      ]
    },
    {
      "cell_type": "code",
      "source": [
        "rng = range(2, 10) # 2 is the start value\n",
        "print(list(rng))"
      ],
      "metadata": {
        "colab": {
          "base_uri": "https://localhost:8080/"
        },
        "id": "IfRDJrl9YDXF",
        "outputId": "e75795a5-d46c-416b-c643-e957d5b69561"
      },
      "execution_count": null,
      "outputs": [
        {
          "output_type": "stream",
          "name": "stdout",
          "text": [
            "[2, 3, 4, 5, 6, 7, 8, 9]\n"
          ]
        }
      ]
    },
    {
      "cell_type": "code",
      "source": [
        "rng = range(2, 10, 3) # 3 is an incremental value\n",
        "print(list(rng))"
      ],
      "metadata": {
        "colab": {
          "base_uri": "https://localhost:8080/"
        },
        "id": "mp4Xd_KMYDZi",
        "outputId": "a6e2306e-61c3-4cde-a3c7-1fb5ff222eef"
      },
      "execution_count": null,
      "outputs": [
        {
          "output_type": "stream",
          "name": "stdout",
          "text": [
            "[2, 5, 8]\n"
          ]
        }
      ]
    },
    {
      "cell_type": "code",
      "source": [
        "rng = range(10, -10, -2) # 10 to -10 with an decremental of -2\n",
        "print(list(rng))"
      ],
      "metadata": {
        "colab": {
          "base_uri": "https://localhost:8080/"
        },
        "id": "oZx2f0WjYDcI",
        "outputId": "87d132d1-afeb-4a43-b4b0-de9ccaef8080"
      },
      "execution_count": null,
      "outputs": [
        {
          "output_type": "stream",
          "name": "stdout",
          "text": [
            "[10, 8, 6, 4, 2, 0, -2, -4, -6, -8]\n"
          ]
        }
      ]
    },
    {
      "cell_type": "code",
      "source": [
        "rng = range(10, -10, -2) # 10 to -10 with an decremental of -2\n",
        "print(rng) # without passing as list range gives the object # as in an interatorr"
      ],
      "metadata": {
        "colab": {
          "base_uri": "https://localhost:8080/"
        },
        "id": "Y5quEz1NYDe2",
        "outputId": "d41b72bc-f9a4-45e5-bca1-84c5f1bd7c0c"
      },
      "execution_count": null,
      "outputs": [
        {
          "output_type": "stream",
          "name": "stdout",
          "text": [
            "range(10, -10, -2)\n"
          ]
        }
      ]
    },
    {
      "cell_type": "markdown",
      "source": [
        "## Map function"
      ],
      "metadata": {
        "id": "o6ReZYHsZAKF"
      }
    },
    {
      "cell_type": "code",
      "source": [
        "strings = ['My', 'world', 'is', 'apple', 'mangoes']\n",
        "\n",
        "len(strings)"
      ],
      "metadata": {
        "colab": {
          "base_uri": "https://localhost:8080/"
        },
        "id": "40JglovoYDhI",
        "outputId": "9930c799-93cb-4757-8b36-e111c7a2532c"
      },
      "execution_count": null,
      "outputs": [
        {
          "output_type": "execute_result",
          "data": {
            "text/plain": [
              "5"
            ]
          },
          "metadata": {},
          "execution_count": 18
        }
      ]
    },
    {
      "cell_type": "code",
      "source": [
        "lengths = map(len, strings) # len is the python function that gives the len of word in string\n",
        "print(list(lengths))"
      ],
      "metadata": {
        "colab": {
          "base_uri": "https://localhost:8080/"
        },
        "id": "vk4aL9QUYDjp",
        "outputId": "47195f49-e34f-488d-acca-510846e5f09f"
      },
      "execution_count": null,
      "outputs": [
        {
          "output_type": "stream",
          "name": "stdout",
          "text": [
            "[2, 5, 2, 5, 7]\n"
          ]
        }
      ]
    },
    {
      "cell_type": "code",
      "source": [
        "lengths = map(lambda x: x + 's', strings) # using the lambda function to make plurals\n",
        "print(list(lengths))"
      ],
      "metadata": {
        "colab": {
          "base_uri": "https://localhost:8080/"
        },
        "id": "aG2L7yecYDlx",
        "outputId": "e5e4a365-6742-4afe-ea6b-765d6e9cb31a"
      },
      "execution_count": null,
      "outputs": [
        {
          "output_type": "stream",
          "name": "stdout",
          "text": [
            "['Mys', 'worlds', 'iss', 'apples', 'mangoess']\n"
          ]
        }
      ]
    },
    {
      "cell_type": "code",
      "source": [
        "def add_es(string):\n",
        "  return string + 'es'\n",
        "\n",
        "lengths = map(add_es, strings) # defining a custom fucntion that addes 'es'\n",
        "print(list(lengths))"
      ],
      "metadata": {
        "colab": {
          "base_uri": "https://localhost:8080/"
        },
        "id": "6q4EChd6YDnX",
        "outputId": "c20fb096-ca8f-4cf1-b1cc-35e6e8922fbe"
      },
      "execution_count": null,
      "outputs": [
        {
          "output_type": "stream",
          "name": "stdout",
          "text": [
            "['Myes', 'worldes', 'ises', 'applees', 'mangoeses']\n"
          ]
        }
      ]
    },
    {
      "cell_type": "markdown",
      "source": [
        "## Filter function\n",
        " - It will take all items in the iterable object, then pass it to a compatible function"
      ],
      "metadata": {
        "id": "P7umslqXaNqV"
      }
    },
    {
      "cell_type": "code",
      "source": [
        "def longer_than_4(string):\n",
        "  return len(string) > 4\n",
        "\n",
        "strings = ['My', 'world', 'is', 'apple', 'mangoes']\n",
        "filtered = filter(longer_than_4, strings)\n",
        "print(list(filtered))"
      ],
      "metadata": {
        "id": "wBg-SErcaNYR",
        "colab": {
          "base_uri": "https://localhost:8080/"
        },
        "outputId": "75779348-0942-4996-9951-e43b9eb66a6f"
      },
      "execution_count": 23,
      "outputs": [
        {
          "output_type": "stream",
          "name": "stdout",
          "text": [
            "['world', 'apple', 'mangoes']\n"
          ]
        }
      ]
    },
    {
      "cell_type": "code",
      "source": [
        "# we can even use lambda function as well\n",
        "\n",
        "filtered = filter(lambda x: len(x) > 4, strings)\n",
        "print(list(filtered))"
      ],
      "metadata": {
        "id": "6sda28tUaNU2",
        "colab": {
          "base_uri": "https://localhost:8080/"
        },
        "outputId": "39085d43-14cc-4095-b1f7-5d301382b6c8"
      },
      "execution_count": 24,
      "outputs": [
        {
          "output_type": "stream",
          "name": "stdout",
          "text": [
            "['world', 'apple', 'mangoes']\n"
          ]
        }
      ]
    },
    {
      "cell_type": "markdown",
      "source": [
        "## Sum function\n",
        " - sum of all numbers passed inside the iterables are numbers ~ int, float"
      ],
      "metadata": {
        "id": "406HrTx1v8pV"
      }
    },
    {
      "cell_type": "code",
      "source": [
        "number = {1, 4.5, 5, 23, 2}\n",
        "print(sum(number))"
      ],
      "metadata": {
        "id": "Bx7TwBkbaNSk",
        "colab": {
          "base_uri": "https://localhost:8080/"
        },
        "outputId": "555839b2-a525-4f0e-f3ac-b1e2791abd20"
      },
      "execution_count": 25,
      "outputs": [
        {
          "output_type": "stream",
          "name": "stdout",
          "text": [
            "35.5\n"
          ]
        }
      ]
    },
    {
      "cell_type": "code",
      "source": [
        "number = {1, 4.5, 5, 23, 2}\n",
        "print(sum(number, start= 10))"
      ],
      "metadata": {
        "id": "hFx_MBJgaNN6",
        "colab": {
          "base_uri": "https://localhost:8080/"
        },
        "outputId": "f0de427c-40b1-4ef3-ea6a-c1362fae98d0"
      },
      "execution_count": 26,
      "outputs": [
        {
          "output_type": "stream",
          "name": "stdout",
          "text": [
            "45.5\n"
          ]
        }
      ]
    },
    {
      "cell_type": "code",
      "source": [
        "number = {1, 4.5, 5, 23, 2}\n",
        "print(sum(number, start= -10))"
      ],
      "metadata": {
        "id": "pSm4DMJiaNKd",
        "colab": {
          "base_uri": "https://localhost:8080/"
        },
        "outputId": "c7ae92fb-9d76-4581-f8ba-737098690528"
      },
      "execution_count": 27,
      "outputs": [
        {
          "output_type": "stream",
          "name": "stdout",
          "text": [
            "25.5\n"
          ]
        }
      ]
    },
    {
      "cell_type": "markdown",
      "source": [
        "## Sorted function\n",
        " - sorts in ascending/descending"
      ],
      "metadata": {
        "id": "scRhFLNXwWRA"
      }
    },
    {
      "cell_type": "code",
      "source": [
        "number = {1, 4.5, 4, -1, 0, 5, 23, 2}\n",
        "sorted(number)"
      ],
      "metadata": {
        "id": "aXrf2xUAaNH9",
        "colab": {
          "base_uri": "https://localhost:8080/"
        },
        "outputId": "7d7bae24-c815-48be-c9f1-a58d30429122"
      },
      "execution_count": 30,
      "outputs": [
        {
          "output_type": "execute_result",
          "data": {
            "text/plain": [
              "[-1, 0, 1, 2, 4, 4.5, 5, 23]"
            ]
          },
          "metadata": {},
          "execution_count": 30
        }
      ]
    },
    {
      "cell_type": "code",
      "source": [
        "number = [1, 4.5, 4, -1, 0, 5, 23, 2]\n",
        "sorted_nums = sorted(number)\n",
        "\n",
        "print(sorted_nums)"
      ],
      "metadata": {
        "id": "b0_by4-JaNFW",
        "colab": {
          "base_uri": "https://localhost:8080/"
        },
        "outputId": "ff6ac50a-e5b1-4c38-f2da-a3dc0de7a4b3"
      },
      "execution_count": 31,
      "outputs": [
        {
          "output_type": "stream",
          "name": "stdout",
          "text": [
            "[-1, 0, 1, 2, 4, 4.5, 5, 23]\n"
          ]
        }
      ]
    },
    {
      "cell_type": "code",
      "source": [
        "number = [1, 4.5, 4, -1, 0, 5, 23, 2]\n",
        "sorted_nums = sorted(number, reverse = True)\n",
        "\n",
        "print(sorted_nums)"
      ],
      "metadata": {
        "id": "zBMCWFpxaNDA",
        "colab": {
          "base_uri": "https://localhost:8080/"
        },
        "outputId": "e2fb66f7-d5e9-40f3-a4b6-59e9941eadf2"
      },
      "execution_count": 32,
      "outputs": [
        {
          "output_type": "stream",
          "name": "stdout",
          "text": [
            "[23, 5, 4.5, 4, 2, 1, 0, -1]\n"
          ]
        }
      ]
    },
    {
      "cell_type": "code",
      "source": [
        "people = [\n",
        "    {'name': 'Alice', 'age': 25},\n",
        "    {'name': 'Bob', 'age': 30},\n",
        "    {'name': 'Charlie', 'age': 20},\n",
        "    {'name': 'David', 'age': 35},\n",
        "]\n",
        "\n",
        "sorted_people = sorted(people, key = lambda x: x['age'], reverse=True)\n",
        "print(sorted_people)"
      ],
      "metadata": {
        "id": "hL0gn-RbaNAF",
        "colab": {
          "base_uri": "https://localhost:8080/"
        },
        "outputId": "3f6586a3-b317-4ca8-a2d1-a86a50e77cdc"
      },
      "execution_count": 33,
      "outputs": [
        {
          "output_type": "stream",
          "name": "stdout",
          "text": [
            "[{'name': 'David', 'age': 35}, {'name': 'Bob', 'age': 30}, {'name': 'Alice', 'age': 25}, {'name': 'Charlie', 'age': 20}]\n"
          ]
        }
      ]
    },
    {
      "cell_type": "markdown",
      "source": [
        "## Enumerate function\n",
        " - index, value ~"
      ],
      "metadata": {
        "id": "DB1EP1ZOx4K_"
      }
    },
    {
      "cell_type": "code",
      "source": [
        "tasks = ['wrote report', 'attend meeting', 'do coding', 'watch lectures', 'review github', 'submit assignment']\n",
        "\n",
        "for index in range(len(tasks)):\n",
        "  task = tasks[index]\n",
        "  print(f\"{index + 1}. {task}\")"
      ],
      "metadata": {
        "id": "UyENjXBqaM9m",
        "colab": {
          "base_uri": "https://localhost:8080/"
        },
        "outputId": "061e49c6-3aa0-4b72-976c-715d8198f43d"
      },
      "execution_count": 37,
      "outputs": [
        {
          "output_type": "stream",
          "name": "stdout",
          "text": [
            "1. wrote report\n",
            "2. attend meeting\n",
            "3. do coding\n",
            "4. watch lectures\n",
            "5. review github\n",
            "6. submit assignment\n"
          ]
        }
      ]
    },
    {
      "cell_type": "code",
      "source": [
        "for index, task in enumerate(tasks): # 1st object = index and 2nd object = task\n",
        "  print(f\"{index + 1}. {task}\")"
      ],
      "metadata": {
        "id": "-oYLgBWBaM6w",
        "colab": {
          "base_uri": "https://localhost:8080/"
        },
        "outputId": "3f2fb070-3449-46e1-b23e-83268b2a5c6d"
      },
      "execution_count": 38,
      "outputs": [
        {
          "output_type": "stream",
          "name": "stdout",
          "text": [
            "1. wrote report\n",
            "2. attend meeting\n",
            "3. do coding\n",
            "4. watch lectures\n",
            "5. review github\n",
            "6. submit assignment\n"
          ]
        }
      ]
    },
    {
      "cell_type": "code",
      "source": [
        "print(list(enumerate(tasks))) # tuple of index, value"
      ],
      "metadata": {
        "id": "tnOuOJrvaM4O",
        "colab": {
          "base_uri": "https://localhost:8080/"
        },
        "outputId": "d913928e-adb4-4b21-b3a4-b070dc6413b7"
      },
      "execution_count": 40,
      "outputs": [
        {
          "output_type": "stream",
          "name": "stdout",
          "text": [
            "[(0, 'wrote report'), (1, 'attend meeting'), (2, 'do coding'), (3, 'watch lectures'), (4, 'review github'), (5, 'submit assignment')]\n"
          ]
        }
      ]
    },
    {
      "cell_type": "markdown",
      "source": [
        "## Zip function"
      ],
      "metadata": {
        "id": "YaK1_8pf3MOH"
      }
    },
    {
      "cell_type": "code",
      "source": [
        "names = ['Alice', 'Bob', 'Charlie', 'David']\n",
        "ages = [25, 30, 20, 35]\n",
        "\n",
        "for idx in range(min(len(names), len(ages))): # why min of names and ages is used, if we get an extra varible that doesnt have a corresponding, it will throw an error\n",
        "  name = names[idx]\n",
        "  age = ages[idx]\n",
        "  print(f'{name} is {age} years old') # corresponding values name age in an expression"
      ],
      "metadata": {
        "id": "-RqPm6UiYDpY",
        "colab": {
          "base_uri": "https://localhost:8080/"
        },
        "outputId": "631bee21-6afb-42f7-feb2-5610e25ec238"
      },
      "execution_count": 41,
      "outputs": [
        {
          "output_type": "stream",
          "name": "stdout",
          "text": [
            "Alice is 25 years old\n",
            "Bob is 30 years old\n",
            "Charlie is 20 years old\n",
            "David is 35 years old\n"
          ]
        }
      ]
    },
    {
      "cell_type": "code",
      "source": [
        "names = ['Alice', 'Bob', 'Charlie', 'David', 'Ashraf']\n",
        "ages = [25, 30, 20, 35, ]\n",
        "\n",
        "for idx in range(min(len(names), len(ages))): # why min of names and ages is used, if we get an extra varible that doesnt have a corresponding, it will throw an error\n",
        "  name = names[idx]\n",
        "  age = ages[idx]\n",
        "  print(f'{name} is {age} years old') # corresponding values name age in an expression"
      ],
      "metadata": {
        "id": "WLIagz0lYDs3",
        "colab": {
          "base_uri": "https://localhost:8080/"
        },
        "outputId": "96cfba4c-378b-4c1a-94a7-1743ca2f4294"
      },
      "execution_count": 45,
      "outputs": [
        {
          "output_type": "stream",
          "name": "stdout",
          "text": [
            "Alice is 25 years old\n",
            "Bob is 30 years old\n",
            "Charlie is 20 years old\n",
            "David is 35 years old\n"
          ]
        }
      ]
    },
    {
      "cell_type": "code",
      "source": [
        "combined = list(zip(names, ages)) # zip function automatically combines the lens\n",
        "print(combined)"
      ],
      "metadata": {
        "id": "6SfzU8CEYDxt",
        "colab": {
          "base_uri": "https://localhost:8080/"
        },
        "outputId": "da4256af-e7bc-4a2b-88b5-19024fa876d4"
      },
      "execution_count": 46,
      "outputs": [
        {
          "output_type": "stream",
          "name": "stdout",
          "text": [
            "[('Alice', 25), ('Bob', 30), ('Charlie', 20), ('David', 35)]\n"
          ]
        }
      ]
    },
    {
      "cell_type": "code",
      "source": [
        "for name, age in combined:\n",
        "  print(f'{name} is {age} years old')"
      ],
      "metadata": {
        "id": "JEncf667YD3b",
        "colab": {
          "base_uri": "https://localhost:8080/"
        },
        "outputId": "fe09e358-b2a7-43ce-bc52-96dd4be05784"
      },
      "execution_count": 47,
      "outputs": [
        {
          "output_type": "stream",
          "name": "stdout",
          "text": [
            "Alice is 25 years old\n",
            "Bob is 30 years old\n",
            "Charlie is 20 years old\n",
            "David is 35 years old\n"
          ]
        }
      ]
    },
    {
      "cell_type": "code",
      "source": [
        "names = ['Alice', 'Bob', 'Charlie', 'David', 'Ashraf']\n",
        "ages = [25, 30, 20, 35, ]\n",
        "gender = ['male', 'female', 'male', ]\n",
        "\n",
        "combined = list(zip(names, ages, gender)) # zip function automatically combines the lens min\n",
        "print(combined)"
      ],
      "metadata": {
        "id": "uE-m-13WYD7A",
        "colab": {
          "base_uri": "https://localhost:8080/"
        },
        "outputId": "bdfa06da-1f1b-4f95-9522-65b9e723a528"
      },
      "execution_count": 50,
      "outputs": [
        {
          "output_type": "stream",
          "name": "stdout",
          "text": [
            "[('Alice', 25, 'male'), ('Bob', 30, 'female'), ('Charlie', 20, 'male')]\n"
          ]
        }
      ]
    },
    {
      "cell_type": "code",
      "source": [
        "for name, age, gende in combined:\n",
        "  print(f'{name} with the gender {gende} is {age} years old')"
      ],
      "metadata": {
        "colab": {
          "base_uri": "https://localhost:8080/"
        },
        "id": "sCFIqObG4_lw",
        "outputId": "d8651a9b-c4e8-495c-ec8d-55d1747b7441"
      },
      "execution_count": 51,
      "outputs": [
        {
          "output_type": "stream",
          "name": "stdout",
          "text": [
            "Alice with the gender male is 25 years old\n",
            "Bob with the gender female is 30 years old\n",
            "Charlie with the gender male is 20 years old\n"
          ]
        }
      ]
    },
    {
      "cell_type": "markdown",
      "source": [
        "## Open function\n",
        " - use to open and read files - r= read, w= write, a= append, wr= reading and writing, ra= reading and appending etc"
      ],
      "metadata": {
        "id": "nLs8Akv_5Sxw"
      }
    },
    {
      "cell_type": "code",
      "source": [
        "file = open('test.txt', 'w')\n",
        "file.write(\"hellow world \\n my name is ashraf\")\n",
        "file.close()"
      ],
      "metadata": {
        "id": "Rofp2ybD5G7s"
      },
      "execution_count": 53,
      "outputs": []
    },
    {
      "cell_type": "code",
      "source": [
        "with open('test.text', 'w') as file:\n",
        "  file.write(\"hellow world \\n my name is ashraf\")"
      ],
      "metadata": {
        "id": "k5LQk6IY5QXp"
      },
      "execution_count": 54,
      "outputs": []
    },
    {
      "cell_type": "code",
      "source": [
        "with open('test.txt', 'r') as file:\n",
        "  text = file.read()\n",
        "  print(text)"
      ],
      "metadata": {
        "colab": {
          "base_uri": "https://localhost:8080/"
        },
        "id": "Q-XkeImO5Qa6",
        "outputId": "fcd6c09f-c719-431b-a545-174425b95bf4"
      },
      "execution_count": 56,
      "outputs": [
        {
          "output_type": "stream",
          "name": "stdout",
          "text": [
            "hellow world \n",
            " my name is ashraf\n"
          ]
        }
      ]
    },
    {
      "cell_type": "code",
      "source": [
        "with open('test.txt', 'a') as file:\n",
        "  file.write('\\n adding new text')"
      ],
      "metadata": {
        "id": "BKgCMs_h5Qde"
      },
      "execution_count": 57,
      "outputs": []
    },
    {
      "cell_type": "code",
      "source": [
        "with open('test.txt', 'r') as file:\n",
        "  text = file.read()\n",
        "  print(text)"
      ],
      "metadata": {
        "colab": {
          "base_uri": "https://localhost:8080/"
        },
        "id": "6jg5-AKh5QgL",
        "outputId": "d75589d0-0f9a-417c-85cd-24939365efa4"
      },
      "execution_count": 58,
      "outputs": [
        {
          "output_type": "stream",
          "name": "stdout",
          "text": [
            "hellow world \n",
            " my name is ashraf\n",
            " adding new text\n"
          ]
        }
      ]
    },
    {
      "cell_type": "code",
      "source": [],
      "metadata": {
        "id": "mAea5eAM5QjP"
      },
      "execution_count": null,
      "outputs": []
    }
  ]
}